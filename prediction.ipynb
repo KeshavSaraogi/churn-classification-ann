{
 "cells": [
  {
   "cell_type": "code",
   "execution_count": null,
   "metadata": {},
   "outputs": [],
   "source": [
    "import tensorflow as tf\n",
    "from tensorflow.keras.models import load_model\n",
    "import pickle\n",
    "import pandas as pd\n",
    "import numpy as np"
   ]
  },
  {
   "cell_type": "code",
   "execution_count": null,
   "metadata": {},
   "outputs": [],
   "source": [
    "# Load the trained model, scaler pickle and the one-hot-encoder\n",
    "\n",
    "model = load_model('model.h5')\n",
    "\n",
    "with open('geoOHE.pkl', 'rb') as file:\n",
    "    geoOHE = pickle.load(file)\n",
    "\n",
    "with open('genderEncoder.pkl', 'rb') as file:\n",
    "    genderEncoder = pickle.load(file) \n",
    "\n",
    "with open('scaler.pkl', 'rb') as file:\n",
    "    scaler = pickle.load(file) "
   ]
  },
  {
   "cell_type": "code",
   "execution_count": null,
   "metadata": {},
   "outputs": [],
   "source": [
    "# Sample Input Data\n",
    "\n",
    "inputData = {\n",
    "    'CreditScore': 600, \n",
    "    'Geography': 'France',\n",
    "    'Gender': 'Male',\n",
    "    'Age': 40, \n",
    "    'Tenure': 3, \n",
    "    'Balance': 60000,\n",
    "    'NumOfProducts': 2, \n",
    "    'HasCrCard': 1,\n",
    "    'IsActiveMember':1,\n",
    "    'EstimatedSalary': 50000\n",
    "}"
   ]
  },
  {
   "cell_type": "code",
   "execution_count": null,
   "metadata": {},
   "outputs": [],
   "source": [
    "# OHE 'Geography'\n",
    "\n",
    "geoEncoded = geoOHE.transform([[inputData['Geography']]]).toarray()\n",
    "geoEncodedDF = pd.DataFrame(geoEncoded, columns=geoOHE.get_feature_names_out(['Geography']))\n",
    "geoEncodedDF"
   ]
  },
  {
   "cell_type": "code",
   "execution_count": null,
   "metadata": {},
   "outputs": [],
   "source": [
    "inputDF = pd.DataFrame([inputData])\n",
    "inputDF"
   ]
  },
  {
   "cell_type": "code",
   "execution_count": null,
   "metadata": {},
   "outputs": [],
   "source": [
    "# Econde Categorical Variables\n",
    "\n",
    "inputDF['Gender'] = genderEncoder.transform(inputDF['Gender'])\n",
    "inputDF"
   ]
  },
  {
   "cell_type": "code",
   "execution_count": null,
   "metadata": {},
   "outputs": [],
   "source": [
    "# Concatenation of OHE\n",
    "\n",
    "inputDF = pd.concat([inputDF.drop(\"Geography\", axis = 1), geoEncodedDF], axis = 1)\n",
    "inputDF\n"
   ]
  },
  {
   "cell_type": "code",
   "execution_count": null,
   "metadata": {},
   "outputs": [],
   "source": [
    "# Scaling The Data\n",
    "\n",
    "scaledInput = scaler.transform(inputDF)\n",
    "scaledInput"
   ]
  },
  {
   "cell_type": "code",
   "execution_count": null,
   "metadata": {},
   "outputs": [],
   "source": [
    "# Prediction\n",
    "\n",
    "prediction = model.predict(scaledInput)\n",
    "prediction"
   ]
  },
  {
   "cell_type": "code",
   "execution_count": null,
   "metadata": {},
   "outputs": [],
   "source": [
    "predictionProbability = prediction[0][0]\n",
    "predictionProbability"
   ]
  },
  {
   "cell_type": "code",
   "execution_count": null,
   "metadata": {},
   "outputs": [],
   "source": [
    "if predictionProbability > 0.5:\n",
    "    print('The Customer Is Likely To Churn')\n",
    "else:\n",
    "    print('The Customer Is Not Likely To Churn')"
   ]
  }
 ],
 "metadata": {
  "kernelspec": {
   "display_name": "base",
   "language": "python",
   "name": "python3"
  },
  "language_info": {
   "codemirror_mode": {
    "name": "ipython",
    "version": 3
   },
   "file_extension": ".py",
   "mimetype": "text/x-python",
   "name": "python",
   "nbconvert_exporter": "python",
   "pygments_lexer": "ipython3",
   "version": "3.11.8"
  }
 },
 "nbformat": 4,
 "nbformat_minor": 2
}
